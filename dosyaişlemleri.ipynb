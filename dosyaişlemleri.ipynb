{
  "nbformat": 4,
  "nbformat_minor": 0,
  "metadata": {
    "colab": {
      "provenance": [],
      "mount_file_id": "14O-6x9TzabGv_RPcCHC1Ul0_KQbX30wI",
      "authorship_tag": "ABX9TyOSZZCL3ornIRCP2uypA48v",
      "include_colab_link": true
    },
    "kernelspec": {
      "name": "python3",
      "display_name": "Python 3"
    },
    "language_info": {
      "name": "python"
    }
  },
  "cells": [
    {
      "cell_type": "markdown",
      "metadata": {
        "id": "view-in-github",
        "colab_type": "text"
      },
      "source": [
        "<a href=\"https://colab.research.google.com/github/dilara-uzer/hu-bby-162-2024/blob/main/dosyai%C5%9Flemleri.ipynb\" target=\"_parent\"><img src=\"https://colab.research.google.com/assets/colab-badge.svg\" alt=\"Open In Colab\"/></a>"
      ]
    },
    {
      "cell_type": "code",
      "source": [
        "dosya = \"/content/drive/MyDrive/Colab Notebooks/dosya.ipynb\"\n",
        "f = open(dosya, 'w')\n",
        "f.close()\n",
        "\n",
        "adSoyad = input(\"Adınızı soyadınızı giriniz: \")\n",
        "ePosta = input(\"E-posta adresinizi giriniz: \")\n",
        "\n",
        "dosyaYaz = open(dosya, \"a\")\n",
        "dosyaYaz.write(adSoyad+\" | \"+ePosta+\"\\n\")\n",
        "dosyaYaz.close()\n",
        "\n"
      ],
      "metadata": {
        "colab": {
          "base_uri": "https://localhost:8080/"
        },
        "id": "p34nQ0kvoBZl",
        "outputId": "0d497439-ecb9-4333-e00e-ae6422c0f7db"
      },
      "execution_count": 31,
      "outputs": [
        {
          "name": "stdout",
          "output_type": "stream",
          "text": [
            "Adınızı soyadınızı giriniz: dilara üzer\n",
            "E-posta adresinizi giriniz: dilara@\n"
          ]
        }
      ]
    },
    {
      "cell_type": "code",
      "source": [
        "dosyaOku = open(dosya, \"r\")\n",
        "\n",
        "for satir in dosyaOku.readlines():\n",
        "  print(satir)\n",
        "\n",
        "dosyaOku.close()"
      ],
      "metadata": {
        "colab": {
          "base_uri": "https://localhost:8080/"
        },
        "id": "dh_Z6ZeqoB_F",
        "outputId": "1a7fb612-c3ad-4306-dab6-149a75020bf7"
      },
      "execution_count": 32,
      "outputs": [
        {
          "output_type": "stream",
          "name": "stdout",
          "text": [
            "dilara üzer | dilara@\n",
            "\n"
          ]
        }
      ]
    }
  ]
}