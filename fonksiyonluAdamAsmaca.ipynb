{
  "nbformat": 4,
  "nbformat_minor": 0,
  "metadata": {
    "colab": {
      "provenance": [],
      "authorship_tag": "ABX9TyMbqDYqiJ6uUNcKNtIKumRa",
      "include_colab_link": true
    },
    "kernelspec": {
      "name": "python3",
      "display_name": "Python 3"
    },
    "language_info": {
      "name": "python"
    }
  },
  "cells": [
    {
      "cell_type": "markdown",
      "metadata": {
        "id": "view-in-github",
        "colab_type": "text"
      },
      "source": [
        "<a href=\"https://colab.research.google.com/github/dilara-uzer/hu-bby-162-2024/blob/main/fonksiyonluAdamAsmaca.ipynb\" target=\"_parent\"><img src=\"https://colab.research.google.com/assets/colab-badge.svg\" alt=\"Open In Colab\"/></a>"
      ]
    },
    {
      "cell_type": "code",
      "execution_count": 17,
      "metadata": {
        "colab": {
          "base_uri": "https://localhost:8080/"
        },
        "id": "p5SCtwJe5GFH",
        "outputId": "b96cd3b7-b673-42da-d23a-c5bf8eef53f7"
      },
      "outputs": [
        {
          "output_type": "stream",
          "name": "stdout",
          "text": [
            "Bir seviye seçin (kolay, orta, zor): zor\n",
            "Hoş geldiniz Adam Asmaca oyununa! Seçtiğiniz seviyede 3 canınız var.\n",
            "Şu ana kadar doğru tahmin ettikleriniz:  ['_', '_', '_', '_', '_']\n",
            "Bir harf giriniz: f\n",
            " ['_', '_', '_', '_', '_']\n",
            "Kalan can:  2\n",
            "Şu ana kadar doğru tahmin ettikleriniz:  ['_', '_', '_', '_', '_']\n",
            "Bir harf giriniz: y\n",
            " ['y', '_', '_', '_', '_']\n",
            "Kalan can:  2\n",
            "Şu ana kadar doğru tahmin ettikleriniz:  ['y', '_', '_', '_', '_']\n",
            "Bir harf giriniz: ü\n",
            " ['y', 'ü', '_', '_', '_']\n",
            "Kalan can:  2\n",
            "Şu ana kadar doğru tahmin ettikleriniz:  ['y', 'ü', '_', '_', '_']\n",
            "Bir harf giriniz: z\n",
            " ['y', 'ü', 'z', '_', '_']\n",
            "Kalan can:  2\n",
            "Şu ana kadar doğru tahmin ettikleriniz:  ['y', 'ü', 'z', '_', '_']\n",
            "Bir harf giriniz: m\n",
            " ['y', 'ü', 'z', 'm', '_']\n",
            "Kalan can:  2\n",
            "Şu ana kadar doğru tahmin ettikleriniz:  ['y', 'ü', 'z', 'm', '_']\n",
            "Bir harf giriniz: e\n",
            " ['y', 'ü', 'z', 'm', 'e']\n",
            "Kalan can:  2\n",
            "Tebrikler! Kelimeyi buldunuz:['y', 'ü', 'z', 'm', 'e']\n",
            "Yeniden oynamak istiyor musunuz? (evet/hayır): hayır\n",
            "Oyundan çıkılıyor. İyi günler!\n"
          ]
        }
      ],
      "source": [
        "from random import choice\n",
        "\n",
        "def kelime_sec():\n",
        "    kelimeler = [\"bisiklet\", \"dans\", \"yüzme\", \"koşu\"]\n",
        "    return choice(kelimeler)\n",
        "\n",
        "def harf_girisi(dizilenKelime):\n",
        "    print(\"Şu ana kadar doğru tahmin ettikleriniz: \", dizilenKelime)\n",
        "    return input(\"Bir harf giriniz: \")\n",
        "\n",
        "def harf_kontrol(secilenKelime, dizilenKelime, girilenHarf, adamCan):\n",
        "    if girilenHarf not in secilenKelime:\n",
        "        adamCan -= 1\n",
        "    for i in range(len(secilenKelime)):\n",
        "        if secilenKelime[i] == girilenHarf:\n",
        "            dizilenKelime[i] = girilenHarf\n",
        "    return adamCan\n",
        "\n",
        "def seviye_sec():\n",
        "    seviyeler = {'kolay': 7, 'orta': 5, 'zor': 3}\n",
        "    while True:\n",
        "        secim = input(\"Bir seviye seçin (kolay, orta, zor): \")\n",
        "        if secim in seviyeler:\n",
        "            return seviyeler[secim]\n",
        "        else:\n",
        "            print(\"Geçersiz seviye. Lütfen kolay, orta veya zor'dan birini seçin.\")\n",
        "\n",
        "def oyun():\n",
        "    adamCan = seviye_sec()\n",
        "    secilenKelime = kelime_sec()\n",
        "    dizilenKelime = [\"_\" for _ in secilenKelime]\n",
        "    print(\"Hoş geldiniz Adam Asmaca oyununa! Seçtiğiniz seviyede\", adamCan, \"canınız var.\")\n",
        "\n",
        "    while adamCan > 0 and \"_\" in dizilenKelime:\n",
        "        girilenHarf = harf_girisi(dizilenKelime)\n",
        "        adamCan = harf_kontrol(secilenKelime, dizilenKelime, girilenHarf, adamCan)\n",
        "\n",
        "        print(' ' + str (dizilenKelime))\n",
        "        print(\"Kalan can: \", adamCan)\n",
        "\n",
        "    if \"_\" not in dizilenKelime:\n",
        "        print(\"Tebrikler! Kelimeyi buldunuz:\" + str (dizilenKelime))\n",
        "    else:\n",
        "        print(\"Maalesef bilemediniz. Kelime:\", secilenKelime)\n",
        "\n",
        "    tekrar = input(\"Yeniden oynamak istiyor musunuz? (evet/hayır): \")\n",
        "    if tekrar.lower() == 'evet':\n",
        "        oyun()\n",
        "    else:\n",
        "        print(\"Oyundan çıkılıyor. İyi günler!\")\n",
        "\n",
        "oyun()\n"
      ]
    }
  ]
}