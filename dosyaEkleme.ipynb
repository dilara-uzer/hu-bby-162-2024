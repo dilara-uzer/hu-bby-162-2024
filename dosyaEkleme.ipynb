{
  "nbformat": 4,
  "nbformat_minor": 0,
  "metadata": {
    "colab": {
      "provenance": [],
      "mount_file_id": "1Oo4m9xTZU5ZU_Y-zeWQW_Ye_2TuNe1TJ",
      "authorship_tag": "ABX9TyNlBdpurEswCIUwPGadE7SK",
      "include_colab_link": true
    },
    "kernelspec": {
      "name": "python3",
      "display_name": "Python 3"
    },
    "language_info": {
      "name": "python"
    }
  },
  "cells": [
    {
      "cell_type": "markdown",
      "metadata": {
        "id": "view-in-github",
        "colab_type": "text"
      },
      "source": [
        "<a href=\"https://colab.research.google.com/github/dilara-uzer/hu-bby-162-2024/blob/main/dosyaEkleme.ipynb\" target=\"_parent\"><img src=\"https://colab.research.google.com/assets/colab-badge.svg\" alt=\"Open In Colab\"/></a>"
      ]
    },
    {
      "cell_type": "code",
      "execution_count": 11,
      "metadata": {
        "id": "dUOCz83zfCFt"
      },
      "outputs": [],
      "source": [
        "import sys\n",
        "sys.path.append('/content/drive/MyDrive')"
      ]
    },
    {
      "cell_type": "code",
      "source": [
        "import kutuphane01"
      ],
      "metadata": {
        "id": "n9JP_-7Vgl39"
      },
      "execution_count": 12,
      "outputs": []
    },
    {
      "cell_type": "code",
      "source": [
        "benimKutuphanem = kutuphane01.Kut01\n",
        "print(benimKutuphanem.kut01Degisken)"
      ],
      "metadata": {
        "colab": {
          "base_uri": "https://localhost:8080/"
        },
        "id": "0lFBaqTxgBVG",
        "outputId": "73c61490-78c1-4c16-a53f-347c255f86db"
      },
      "execution_count": 13,
      "outputs": [
        {
          "output_type": "stream",
          "name": "stdout",
          "text": [
            "Kütüphane 01\n"
          ]
        }
      ]
    }
  ]
}