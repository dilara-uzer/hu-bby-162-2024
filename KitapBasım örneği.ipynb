{
  "nbformat": 4,
  "nbformat_minor": 0,
  "metadata": {
    "colab": {
      "provenance": [],
      "authorship_tag": "ABX9TyMP1JoEpyeHtpXuhk+5eNYm",
      "include_colab_link": true
    },
    "kernelspec": {
      "name": "python3",
      "display_name": "Python 3"
    },
    "language_info": {
      "name": "python"
    }
  },
  "cells": [
    {
      "cell_type": "markdown",
      "metadata": {
        "id": "view-in-github",
        "colab_type": "text"
      },
      "source": [
        "<a href=\"https://colab.research.google.com/github/dilara-uzer/hu-bby-162-2024/blob/main/KitapBas%C4%B1m%20%C3%B6rne%C4%9Fi.ipynb\" target=\"_parent\"><img src=\"https://colab.research.google.com/assets/colab-badge.svg\" alt=\"Open In Colab\"/></a>"
      ]
    },
    {
      "cell_type": "code",
      "execution_count": 33,
      "metadata": {
        "id": "vLArs7LtFT33"
      },
      "outputs": [],
      "source": [
        "class Kitaplar:\n",
        "  sayfa = 200\n",
        "  kapak = \"karton\"\n",
        "  renk = \"siyah/beyaz\"\n",
        "  içerik = \"tablo/grafik\"\n",
        "  def KitapBasım(self):\n",
        "    print(\"Bu kitap %d sayfa, %s kapaklı, %s renginde ve %s içeriğinde basılacaktır.\" % (self.sayfa, self.kapak, self.renk, self.içerik))"
      ]
    },
    {
      "cell_type": "code",
      "source": [
        "kitap1 = Kitaplar()\n",
        "kitap1.renk = \"siyah\"\n",
        "kitap1.içerik = \"tablo\"\n",
        "kitap1.KitapBasım()\n",
        "\n",
        "\n",
        "kitap2 = Kitaplar()\n",
        "kitap2.renk = \"kırmızı\"\n",
        "kitap2.içerik = \"grafik\"\n",
        "kitap2.KitapBasım()"
      ],
      "metadata": {
        "colab": {
          "base_uri": "https://localhost:8080/"
        },
        "id": "1rr0Tq4BG3SG",
        "outputId": "6e314f03-243a-4559-8c9a-526ad0e11664"
      },
      "execution_count": 34,
      "outputs": [
        {
          "output_type": "stream",
          "name": "stdout",
          "text": [
            "Bu kitap 200 sayfa, karton kapaklı, siyah renginde ve tablo içeriğinde basılacaktır.\n",
            "Bu kitap 200 sayfa, karton kapaklı, kırmızı renginde ve grafik içeriğinde basılacaktır.\n"
          ]
        }
      ]
    }
  ]
}