{
  "nbformat": 4,
  "nbformat_minor": 0,
  "metadata": {
    "colab": {
      "provenance": [],
      "authorship_tag": "ABX9TyMiAJzkW4OOvOuQGpEAUu/b",
      "include_colab_link": true
    },
    "kernelspec": {
      "name": "python3",
      "display_name": "Python 3"
    },
    "language_info": {
      "name": "python"
    }
  },
  "cells": [
    {
      "cell_type": "markdown",
      "metadata": {
        "id": "view-in-github",
        "colab_type": "text"
      },
      "source": [
        "<a href=\"https://colab.research.google.com/github/dilara-uzer/hu-bby-162-2024/blob/main/Yaz%C4%B1tura.ipynb\" target=\"_parent\"><img src=\"https://colab.research.google.com/assets/colab-badge.svg\" alt=\"Open In Colab\"/></a>"
      ]
    },
    {
      "cell_type": "code",
      "execution_count": 2,
      "metadata": {
        "colab": {
          "base_uri": "https://localhost:8080/"
        },
        "id": "HHeix3R1-Ojb",
        "outputId": "8948b48d-9362-43b8-c514-9ea75eee5886"
      },
      "outputs": [
        {
          "output_type": "stream",
          "name": "stdout",
          "text": [
            "Yazı geldi...\n"
          ]
        }
      ],
      "source": [
        "import random\n",
        "\n",
        "yazi_tura  = random.randint(1, 2)\n",
        "\n",
        "if yazi_tura == 1:\n",
        "  print(\"Yazı geldi...\")\n",
        "else:\n",
        "  print(\"Tura geldi...\")"
      ]
    }
  ]
}