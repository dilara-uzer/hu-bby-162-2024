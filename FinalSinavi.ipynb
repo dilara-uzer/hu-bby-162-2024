{
  "nbformat": 4,
  "nbformat_minor": 0,
  "metadata": {
    "colab": {
      "provenance": [],
      "include_colab_link": true
    },
    "kernelspec": {
      "name": "python3",
      "display_name": "Python 3"
    },
    "language_info": {
      "name": "python"
    }
  },
  "cells": [
    {
      "cell_type": "markdown",
      "metadata": {
        "id": "view-in-github",
        "colab_type": "text"
      },
      "source": [
        "<a href=\"https://colab.research.google.com/github/dilara-uzer/hu-bby-162-2024/blob/main/FinalSinavi.ipynb\" target=\"_parent\"><img src=\"https://colab.research.google.com/assets/colab-badge.svg\" alt=\"Open In Colab\"/></a>"
      ]
    },
    {
      "cell_type": "markdown",
      "source": [
        "**Final Sınavına hoşgeldiniz!**"
      ],
      "metadata": {
        "id": "ItmuxWgBbkC1"
      }
    },
    {
      "cell_type": "markdown",
      "source": [
        "Canlı final sınavı, bilgisayar laboratuvarında bilgisayar başında yapılan ve teslim edilen sınavı ifade etmektedir. Canlı final sınavında yazmış olduğunuz kodlar sizin sorumluluğunuzdadır ve gerekirse hangi kodu neden yazdığınızı açık bir şekilde anlatabilmeniz gerekmektedir. Canlı final sınavı sırasında İnternet üzerindeki kaynaklar kullanılabilir ancak başka bir kişiden destek alınamaz.\n",
        "\n",
        "Canlı final sınavının teslim şekli önceki sınav ve projelerin teslim şekli ile aynıdır. \"Final Sınavı\" adlı Colab not defterinin bir kopyasını çıkarmalı, size ait olan bu kopya üzerinde soruları cevaplamalı, GitHub'daki ders deponuza size ait kopyayı yüklemeli ve not defterinin adresini metin alanına yazarak göndermelisiniz.\n",
        "\n",
        "Canlı final sınavının doğru şekilde tamamlanması da sınavın önemli bir parçasıdır. Sınav için gönderdiğiniz adresi kontrol ediniz ve doğru dosyayı depoya yerleştirdiği bizden emin olunuz. Teslim sürecinde yapılan hatalar sınavdan 0 puan almanıza yol açabilir!\n",
        "\n",
        "**Sınav süresi 60 dakikadır!**\n",
        "\n",
        "Önemli Not: Soruları cecaplarken sadece şu ana kadar öğrendiğiniz kod yapılarını kullanmanız gerekmektedir!!!"
      ],
      "metadata": {
        "id": "KGjdjR5RbTgH"
      }
    },
    {
      "cell_type": "markdown",
      "source": [
        "**----- Sorular -----**"
      ],
      "metadata": {
        "id": "zBvdh4s8cOqM"
      }
    },
    {
      "cell_type": "markdown",
      "source": [
        "**Soru 1:** Kod bölümünde yer alan listeyi ekrana aşağıda gösterildiği şekilde \"for\" döngüsü kullanarak yazdırın. Her kelimenin başındaki numara otomatik olarak verilmelidir. (5 Puan)\n",
        "\n",
        "1.   Açık Erişim\n",
        "2.   Açık Bilim\n",
        "3.   Açık Veri\n",
        "4.   Açık Eğitim\n",
        "5.   Açık Kültür"
      ],
      "metadata": {
        "id": "ma0FVqgQiLBe"
      }
    },
    {
      "cell_type": "code",
      "source": [
        "#Soru 1 bu bölümde kodlanmalıdır\n",
        "acikListe = [\"Açık Erişim\", \"Açık Bilim\", \"Açık Veri\", \"Açık Eğitim\", \"Açık Kültür\"]\n",
        "sira = 1\n",
        "\n",
        "for acik in acikListe:\n",
        "    print(f\"{sira}. {acik}\")\n",
        "    sira += 1\n",
        "\n",
        "\n"
      ],
      "metadata": {
        "id": "Fj7wkLMcjp_7",
        "outputId": "8b58a986-ff8b-46aa-ce68-ad6741166a59",
        "colab": {
          "base_uri": "https://localhost:8080/"
        }
      },
      "execution_count": 1,
      "outputs": [
        {
          "output_type": "stream",
          "name": "stdout",
          "text": [
            "1. Açık Erişim\n",
            "2. Açık Bilim\n",
            "3. Açık Veri\n",
            "4. Açık Eğitim\n",
            "5. Açık Kültür\n"
          ]
        }
      ]
    },
    {
      "cell_type": "markdown",
      "source": [
        "**Soru 2:** Kod bölümünde yer alan boş sözlüğe klavyeden yeni veri ekleyecek kodu yazınız. Yeni veri hem anahtarı (key) hem de anahtara karşılık gelecek değerli (value) içermelidir. Veri girişi yapıldıktan sonra sözlüğün güncel hali de ekrana yazıdırılmalıdır. (5 Puan)"
      ],
      "metadata": {
        "id": "uZDiXJARgK4o"
      }
    },
    {
      "cell_type": "code",
      "source": [
        "#Soru 2 bu bölümde kodlanmalıdır\n",
        "sozluk = {}\n",
        "\n",
        "anahtar = input(\"Lütfen eklemek istediğiniz anahtarı girin: \")\n",
        "deger = input(anahtar + \" için değer girin: \")\n",
        "\n",
        "sozluk[anahtar] = deger\n",
        "\n",
        "print(\"Sözlüğün güncel hali:\")\n",
        "for anahtar in sozluk:\n",
        "    print(anahtar + \": \" + sozluk[anahtar])\n",
        "\n",
        "\n",
        "\n"
      ],
      "metadata": {
        "id": "no7Zd1ZCh5U3",
        "outputId": "38dceabb-36fa-428f-ede8-ca0d5eb70c4f",
        "colab": {
          "base_uri": "https://localhost:8080/"
        }
      },
      "execution_count": 12,
      "outputs": [
        {
          "output_type": "stream",
          "name": "stdout",
          "text": [
            "Lütfen eklemek istediğiniz anahtarı girin: dilara\n",
            "dilara için değer girin: üzer\n",
            "Sözlüğün güncel hali:\n",
            "dilara: üzer\n"
          ]
        }
      ]
    },
    {
      "cell_type": "markdown",
      "source": [
        "**Soru 3:** Herhangi bir metin dosyasında (ör: [veri.txt](https://drive.google.com/file/d/1WVCEET3G3ishvIR-V6lCav7jBgaZLT-o/view?usp=sharing)) satır satır yer alan verileri okuyup ekrana satır satır yazdıracak kodu yazınız. (10 Puan)"
      ],
      "metadata": {
        "id": "HnIqbjcCeNEV"
      }
    },
    {
      "cell_type": "code",
      "source": [
        "#Soru 3 bu bölümde kodlanmalıdır\n",
        "\n",
        "dosya = \"/content/sample_data/finalsinavi/MyDrive/Colab Notebooks/final\"\n",
        "dosya = open(dosya, \"r\")\n",
        "\n",
        "for satir in dosya.readlines():\n",
        "  print(satir)\n",
        "\n",
        "dosya.close()"
      ],
      "metadata": {
        "id": "SjzG5g3ffTyv",
        "outputId": "3f8c7321-9659-4f2c-e13f-a00a5669ff92",
        "colab": {
          "base_uri": "https://localhost:8080/"
        }
      },
      "execution_count": 44,
      "outputs": [
        {
          "output_type": "stream",
          "name": "stdout",
          "text": [
            "dilara \n",
            "\n",
            "üzer\n",
            "\n",
            "esma\n",
            "\n",
            "buse\n",
            "\n",
            "\n",
            "\n"
          ]
        }
      ]
    },
    {
      "cell_type": "markdown",
      "source": [
        "**Soru 4:** Verilerin bir TXT dosyasında depolanabileceği basit bir adres defteri oluşturunuz. Adres defterindeki öğeler Ad-Soyad ve e-Posta olacaktır. Bu adres desteri uygulamasında bir menü yapısı (uygulama içinde fonksiyolar) olmalıdır. 1. seçenek adres defterindeki girişleri göstermeli, 2. seçenek adres defterine yeni veri eklemeli, 3. seçenek ise uygulamayı sonlandırmalıdır. (20 Puan)"
      ],
      "metadata": {
        "id": "p49cZFjJcXoS"
      }
    },
    {
      "cell_type": "code",
      "execution_count": null,
      "metadata": {
        "id": "3whYCDz3a8QZ"
      },
      "outputs": [],
      "source": [
        "#Soru 4 bu bölümde kodlanmalıdır\n",
        "\n",
        "\n",
        "def menu():\n",
        "    print(\"1. Adres Defterini Göster\")\n",
        "    print(\"2. Adres Defterine Yeni Giriş Ekle\")\n",
        "    print(\"3. Uygulamayı Sonlandır\")\n",
        "    secim = input(\"Lütfen bir seçenek giriniz: \")\n",
        "    return secim\n",
        "\n",
        "def adres_defterini_goster():\n",
        "    try:\n",
        "        with open('adres_defteri.txt', 'r', encoding='utf-8') as dosya:\n",
        "            icerik = dosya.readlines()\n",
        "            for satir in icerik:\n",
        "                print(satir.strip())\n",
        "    except FileNotFoundError:\n",
        "        print(\"Adres defteri bulunamadı.\")\n",
        "\n",
        "def yeni_giris_ekle():\n",
        "    ad_soyad = input(\"Ad Soyad: \")\n",
        "    e_posta = input(\"E-Posta: \")\n",
        "    with open('adres_defteri.txt', 'a', encoding='utf-8') as dosya:\n",
        "        dosya.write(f\"{ad_soyad}, {e_posta}\\n\")\n",
        "    print(\"Giriş başarıyla eklendi.\")\n",
        "\n",
        "def uygulamayi_sonlandir():\n",
        "    print(\"Uygulama sonlandırılıyor...\")\n",
        "    exit()\n",
        "\n",
        "def main():\n",
        "    while True:\n",
        "        secim = menu()\n",
        "        if secim == '1':\n",
        "            adres_defterini_goster()\n",
        "        elif secim == '2':\n",
        "            yeni_giris_ekle()\n",
        "        elif secim == '3':\n",
        "            uygulamayi_sonlandir()\n",
        "        else:\n",
        "            print(\"Geçersiz seçenek!\")\n",
        "\n",
        "if __name__ == \"__main__\":\n",
        "    main()\n"
      ]
    }
  ]
}