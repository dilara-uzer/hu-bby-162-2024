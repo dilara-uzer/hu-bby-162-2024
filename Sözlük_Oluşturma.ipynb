{
  "nbformat": 4,
  "nbformat_minor": 0,
  "metadata": {
    "colab": {
      "provenance": [],
      "authorship_tag": "ABX9TyO4/BPM5k7lS+Np4a0iTYZg",
      "include_colab_link": true
    },
    "kernelspec": {
      "name": "python3",
      "display_name": "Python 3"
    },
    "language_info": {
      "name": "python"
    }
  },
  "cells": [
    {
      "cell_type": "markdown",
      "metadata": {
        "id": "view-in-github",
        "colab_type": "text"
      },
      "source": [
        "<a href=\"https://colab.research.google.com/github/dilara-uzer/hu-bby-162-2024/blob/main/S%C3%B6zl%C3%BCk_Olu%C5%9Fturma.ipynb\" target=\"_parent\"><img src=\"https://colab.research.google.com/assets/colab-badge.svg\" alt=\"Open In Colab\"/></a>"
      ]
    },
    {
      "cell_type": "code",
      "execution_count": 1,
      "metadata": {
        "colab": {
          "base_uri": "https://localhost:8080/"
        },
        "id": "rA-XfhJ78vKd",
        "outputId": "bffbf136-c412-4abc-d2ee-4be3a3fdc83c"
      },
      "outputs": [
        {
          "output_type": "stream",
          "name": "stdout",
          "text": [
            "{'Kitap': 'Book', 'Kalem': 'Pencil', 'Çanta': 'Bag', 'Defter': 'Notebook', 'Etek': 'Skirt', 'Ayakkabı': 'Shoe', 'Bilgisayar': 'Computer', 'Kedi': 'Cat', 'Aslan': 'Lion', 'Silgi': 'Duster'}\n"
          ]
        }
      ],
      "source": [
        "sözlük = {\"Kitap\": \"Book\", \"Kalem\": \"Pencil\", \"Çanta\": \"Bag\", \"Defter\": \"Notebook\", \"Etek\": \"Skirt\", \"Ayakkabı\": \"Shoe\", \"Bilgisayar\": \"Computer\", \"Kedi\": \"Cat\", \"Aslan\": \"Lion\", \"Silgi\": \"Duster\"}\n",
        "print(sözlük)\n"
      ]
    },
    {
      "cell_type": "code",
      "source": [
        "türkçe_kelime = input(\"Yeni bir türkçe kelime ekleyiniz: \")\n",
        "çevirisi = input(\"Yeni bir ingilizce kelime giriniz: \")\n",
        "sözlük[türkçe_kelime] = çevirisi\n",
        "print(sözlük)"
      ],
      "metadata": {
        "colab": {
          "base_uri": "https://localhost:8080/"
        },
        "id": "slD6sBYwEidH",
        "outputId": "1fc187b4-4ad2-4b61-ec94-ded0d1971ca1"
      },
      "execution_count": 2,
      "outputs": [
        {
          "output_type": "stream",
          "name": "stdout",
          "text": [
            "Yeni bir türkçe kelime ekleyiniz: su\n",
            "Yeni bir ingilizce kelime giriniz: water\n",
            "{'Kitap': 'Book', 'Kalem': 'Pencil', 'Çanta': 'Bag', 'Defter': 'Notebook', 'Etek': 'Skirt', 'Ayakkabı': 'Shoe', 'Bilgisayar': 'Computer', 'Kedi': 'Cat', 'Aslan': 'Lion', 'Silgi': 'Duster', 'su': 'water'}\n"
          ]
        }
      ]
    },
    {
      "cell_type": "code",
      "source": [
        "print(sözlük)\n",
        "silinecek = input(\"Silmek istediğiniz kelimeyi giriniz: \")\n",
        "print(\"Silinecek kelime: \" + sözlük[silinecek])\n",
        "del sözlük[silinecek]\n",
        "print(\"Silme tamamlandı\")\n",
        "print(sözlük)"
      ],
      "metadata": {
        "colab": {
          "base_uri": "https://localhost:8080/"
        },
        "id": "MRPSlAQaBRgQ",
        "outputId": "d147b6b4-9d0e-499e-c52f-dbb54924cc19"
      },
      "execution_count": 3,
      "outputs": [
        {
          "output_type": "stream",
          "name": "stdout",
          "text": [
            "{'Kitap': 'Book', 'Kalem': 'Pencil', 'Çanta': 'Bag', 'Defter': 'Notebook', 'Etek': 'Skirt', 'Ayakkabı': 'Shoe', 'Bilgisayar': 'Computer', 'Kedi': 'Cat', 'Aslan': 'Lion', 'Silgi': 'Duster', 'su': 'water'}\n",
            "Silmek istediğiniz kelimeyi giriniz: su\n",
            "Silinecek kelime: water\n",
            "Silme tamamlandı\n",
            "{'Kitap': 'Book', 'Kalem': 'Pencil', 'Çanta': 'Bag', 'Defter': 'Notebook', 'Etek': 'Skirt', 'Ayakkabı': 'Shoe', 'Bilgisayar': 'Computer', 'Kedi': 'Cat', 'Aslan': 'Lion', 'Silgi': 'Duster'}\n"
          ]
        }
      ]
    },
    {
      "cell_type": "code",
      "source": [
        "print(sözlük)\n",
        "guncellenecek = input(\"Güncellemek istediğiniz türkçe kelimeyi giriniz: \")\n",
        "print(\"Güncellenecek kelime: \" + sözlük[guncellenecek])\n",
        "guncelIcerik = input(\"Güncel ingilizce çevirisini giriniz: \")\n",
        "sözlük[guncellenecek] = guncelIcerik\n",
        "print(\"Güncelleme tamamlandı\")\n",
        "print(sözlük)"
      ],
      "metadata": {
        "colab": {
          "base_uri": "https://localhost:8080/"
        },
        "id": "s-a-JdBMLc1J",
        "outputId": "0eb170cd-07a2-48b4-c8e2-1b4dbbaa1af2"
      },
      "execution_count": null,
      "outputs": [
        {
          "output_type": "stream",
          "name": "stdout",
          "text": [
            "{'Kitap': 'Book', 'Kalem': 'Pencil', 'Çanta': 'Bag', 'Defter': 'Notebook', 'Ayakkabı': 'Shoe', 'Bilgisayar': 'Computer', 'Kedi': 'kedi', 'Aslan': 'Lion', 'Silgi': 'Duster', 'Fare': 'Mouse'}\n",
            "Güncellemek istediğiniz türkçe kelimeyi giriniz: Kedi\n",
            "Güncellenecek kelime: kedi\n",
            "Güncel ingilizce çevirisini giriniz: Cat\n",
            "Güncelleme tamamlandı\n",
            "{'Kitap': 'Book', 'Kalem': 'Pencil', 'Çanta': 'Bag', 'Defter': 'Notebook', 'Ayakkabı': 'Shoe', 'Bilgisayar': 'Computer', 'Kedi': 'Cat', 'Aslan': 'Lion', 'Silgi': 'Duster', 'Fare': 'Mouse'}\n"
          ]
        }
      ]
    },
    {
      "cell_type": "code",
      "source": [
        "sözlük = {\"Kitap\": \"Book\", \"Kalem\": \"Pencil\", \"Çanta\": \"Bag\", \"Defter\": \"Notebook\", \"Etek\": \"Skirt\", \"Ayakkabı\": \"Shoe\", \"Bilgisayar\": \"Computer\", \"Kedi\": \"Cat\", \"Aslan\": \"Lion\", \"Silgi\": \"Duster\"}\n",
        "aranan_kelime = input(\"Aranacak türkçe kelimeyi girin: \")\n",
        "print(aranan_kelime in sözlük.keys())\n",
        "aranan_kelime = input(\"Aranacak ingilizce kelimeyi girin: \")\n",
        "print(aranan_kelime in sözlük.values())"
      ],
      "metadata": {
        "colab": {
          "base_uri": "https://localhost:8080/"
        },
        "id": "rAzSK9S8NluB",
        "outputId": "aeff3009-8679-4c2e-b930-8971a4d57b32"
      },
      "execution_count": 6,
      "outputs": [
        {
          "output_type": "stream",
          "name": "stdout",
          "text": [
            "Aranacak türkçe kelimeyi girin: Su\n",
            "False\n",
            "Aranacak ingilizce kelimeyi girin: Water\n",
            "False\n"
          ]
        }
      ]
    }
  ]
}