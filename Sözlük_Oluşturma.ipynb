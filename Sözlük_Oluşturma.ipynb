{
  "nbformat": 4,
  "nbformat_minor": 0,
  "metadata": {
    "colab": {
      "provenance": [],
      "authorship_tag": "ABX9TyPlyIKUfhO9y9Q7DXwrjq/c",
      "include_colab_link": true
    },
    "kernelspec": {
      "name": "python3",
      "display_name": "Python 3"
    },
    "language_info": {
      "name": "python"
    }
  },
  "cells": [
    {
      "cell_type": "markdown",
      "metadata": {
        "id": "view-in-github",
        "colab_type": "text"
      },
      "source": [
        "<a href=\"https://colab.research.google.com/github/dilara-uzer/hu-bby-162-2024/blob/main/S%C3%B6zl%C3%BCk_Olu%C5%9Fturma.ipynb\" target=\"_parent\"><img src=\"https://colab.research.google.com/assets/colab-badge.svg\" alt=\"Open In Colab\"/></a>"
      ]
    },
    {
      "cell_type": "code",
      "execution_count": 5,
      "metadata": {
        "colab": {
          "base_uri": "https://localhost:8080/"
        },
        "id": "rA-XfhJ78vKd",
        "outputId": "926220fd-e43a-4855-8466-4d432ac00bb7"
      },
      "outputs": [
        {
          "output_type": "stream",
          "name": "stdout",
          "text": [
            "{'Kitap': 'Book', 'Kalem': 'Pencil', 'Çanta': 'Bag', 'Defter': 'Notebook', 'Etek': 'Skirt', 'Ayakkabı': 'Shoe', 'Bilgisayar': 'Computer', 'Kedi': 'Cat', 'Aslan': 'Lion', 'Silgi': 'Duster'}\n"
          ]
        }
      ],
      "source": [
        "sözlük = {\"Kitap\": \"Book\", \"Kalem\": \"Pencil\", \"Çanta\": \"Bag\", \"Defter\": \"Notebook\", \"Etek\": \"Skirt\", \"Ayakkabı\": \"Shoe\", \"Bilgisayar\": \"Computer\", \"Kedi\": \"Cat\", \"Aslan\": \"Lion\", \"Silgi\": \"Duster\"}\n",
        "print(sözlük)\n"
      ]
    },
    {
      "cell_type": "code",
      "source": [
        "türkçe_kelime = input(\"Yeni bir türkçe kelime ekleyiniz: \")\n",
        "çevirisi = input(\"Yeni bir ingilizce kelime giriniz: \")\n",
        "sözlük[türkçe_kelime] = çevirisi\n",
        "print(sözlük)"
      ],
      "metadata": {
        "colab": {
          "base_uri": "https://localhost:8080/"
        },
        "id": "slD6sBYwEidH",
        "outputId": "5aa19b21-4e52-4543-8a9d-74fd2276fafc"
      },
      "execution_count": 6,
      "outputs": [
        {
          "output_type": "stream",
          "name": "stdout",
          "text": [
            "Yeni bir türkçe kelime ekleyiniz: Kazak\n",
            "Yeni bir ingilizce kelime giriniz: Sweater\n",
            "{'Kitap': 'Book', 'Kalem': 'Pencil', 'Çanta': 'Bag', 'Defter': 'Notebook', 'Etek': 'Skirt', 'Ayakkabı': 'Shoe', 'Bilgisayar': 'Computer', 'Kedi': 'Cat', 'Aslan': 'Lion', 'Silgi': 'Duster', 'Kazak': 'Sweater'}\n"
          ]
        }
      ]
    },
    {
      "cell_type": "code",
      "source": [
        "print(sözlük)\n",
        "silinecek = input(\"Silmek istediğiniz kelimeyi giriniz: \")\n",
        "print(\"Silinecek kelime: \" + sözlük[silinecek])\n",
        "del sözlük[silinecek]\n",
        "print(\"Silme tamamlandı\")\n",
        "print(sözlük)"
      ],
      "metadata": {
        "colab": {
          "base_uri": "https://localhost:8080/"
        },
        "id": "MRPSlAQaBRgQ",
        "outputId": "12c0b90a-f912-4e0d-cde1-6c484a32ea8a"
      },
      "execution_count": 7,
      "outputs": [
        {
          "output_type": "stream",
          "name": "stdout",
          "text": [
            "{'Kitap': 'Book', 'Kalem': 'Pencil', 'Çanta': 'Bag', 'Defter': 'Notebook', 'Etek': 'Skirt', 'Ayakkabı': 'Shoe', 'Bilgisayar': 'Computer', 'Kedi': 'Cat', 'Aslan': 'Lion', 'Silgi': 'Duster', 'Kazak': 'Sweater'}\n",
            "Silmek istediğiniz kelimeyi giriniz: Silgi\n",
            "Silinecek kelime: Duster\n",
            "Silme tamamlandı\n",
            "{'Kitap': 'Book', 'Kalem': 'Pencil', 'Çanta': 'Bag', 'Defter': 'Notebook', 'Etek': 'Skirt', 'Ayakkabı': 'Shoe', 'Bilgisayar': 'Computer', 'Kedi': 'Cat', 'Aslan': 'Lion', 'Kazak': 'Sweater'}\n"
          ]
        }
      ]
    },
    {
      "cell_type": "code",
      "source": [
        "print(sözlük)\n",
        "guncellenecek = input(\"Güncellemek istediğiniz türkçe kelimeyi giriniz: \")\n",
        "print(\"Güncellenecek kelime: \" + sözlük[guncellenecek])\n",
        "guncelIcerik = input(\"Güncel ingilizce çevirisini giriniz: \")\n",
        "sözlük[guncellenecek] = guncelIcerik\n",
        "print(\"Güncelleme tamamlandı\")\n",
        "print(sözlük)"
      ],
      "metadata": {
        "colab": {
          "base_uri": "https://localhost:8080/"
        },
        "id": "s-a-JdBMLc1J",
        "outputId": "0eb170cd-07a2-48b4-c8e2-1b4dbbaa1af2"
      },
      "execution_count": 53,
      "outputs": [
        {
          "output_type": "stream",
          "name": "stdout",
          "text": [
            "{'Kitap': 'Book', 'Kalem': 'Pencil', 'Çanta': 'Bag', 'Defter': 'Notebook', 'Ayakkabı': 'Shoe', 'Bilgisayar': 'Computer', 'Kedi': 'kedi', 'Aslan': 'Lion', 'Silgi': 'Duster', 'Fare': 'Mouse'}\n",
            "Güncellemek istediğiniz türkçe kelimeyi giriniz: Kedi\n",
            "Güncellenecek kelime: kedi\n",
            "Güncel ingilizce çevirisini giriniz: Cat\n",
            "Güncelleme tamamlandı\n",
            "{'Kitap': 'Book', 'Kalem': 'Pencil', 'Çanta': 'Bag', 'Defter': 'Notebook', 'Ayakkabı': 'Shoe', 'Bilgisayar': 'Computer', 'Kedi': 'Cat', 'Aslan': 'Lion', 'Silgi': 'Duster', 'Fare': 'Mouse'}\n"
          ]
        }
      ]
    },
    {
      "cell_type": "code",
      "source": [
        "sözlük = {\"Kitap\": \"Book\", \"Kalem\": \"Pencil\", \"Çanta\": \"Bag\", \"Defter\": \"Notebook\", \"Etek\": \"Skirt\", \"Ayakkabı\": \"Shoe\", \"Bilgisayar\": \"Computer\", \"Kedi\": \"Cat\", \"Aslan\": \"Lion\", \"Silgi\": \"Duster\"}\n",
        "aranan_kelime = input(\"Aranacak kelimeyi girin: \")\n",
        "print(aranan_kelime in sözlük)"
      ],
      "metadata": {
        "colab": {
          "base_uri": "https://localhost:8080/"
        },
        "id": "rAzSK9S8NluB",
        "outputId": "523bf8a4-908f-456f-bdaa-1d541d41e934"
      },
      "execution_count": 53,
      "outputs": [
        {
          "output_type": "stream",
          "name": "stdout",
          "text": [
            "Aranacak kelimeyi girin: Kitap\n",
            "True\n"
          ]
        }
      ]
    }
  ]
}